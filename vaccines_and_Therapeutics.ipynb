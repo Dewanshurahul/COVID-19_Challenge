{
 "cells": [
  {
   "cell_type": "code",
   "execution_count": 1,
   "metadata": {},
   "outputs": [],
   "source": [
    "import pandas as pd\n",
    "import numpy as np\n",
    "from nltk import PorterStemmer\n",
    "import functools\n",
    "from IPython.core.display import display, HTML"
   ]
  },
  {
   "cell_type": "code",
   "execution_count": 2,
   "metadata": {},
   "outputs": [
    {
     "name": "stderr",
     "output_type": "stream",
     "text": [
      "/home/dewanshu/anaconda3/lib/python3.7/site-packages/IPython/core/interactiveshell.py:3063: DtypeWarning: Columns (1,4) have mixed types.Specify dtype option on import or set low_memory=False.\n",
      "  interactivity=interactivity, compiler=compiler, result=result)\n"
     ]
    }
   ],
   "source": [
    "data_path = \"/home/dewanshu/Downloads/2020-08-01/metadata.csv\"\n",
    "df=pd.read_csv(data_path, usecols=['title','journal','abstract','authors','doi','publish_time','sha'])\n",
    "df=df.fillna('N/A')\n",
    "df = df.drop_duplicates(subset='title', keep=\"first\")\n",
    "df=df[df['publish_time'].str.contains('2020')]\n",
    "df[\"abstract\"] = df[\"abstract\"].str.lower()+df[\"title\"].str.lower()"
   ]
  },
  {
   "cell_type": "code",
   "execution_count": 3,
   "metadata": {},
   "outputs": [],
   "source": [
    "def get_dataFrame(df):\n",
    "    dfa = df[df['abstract'].str.contains('covid')]\n",
    "    dfb = df[df['abstract'].str.contains('-cov-2')]\n",
    "    dfc = df[df['abstract'].str.contains('cov2')]\n",
    "    dfd = df[df['abstract'].str.contains('ncov')]\n",
    "    frames=[dfa,dfb,dfc,dfd]\n",
    "    df = pd.concat(frames)\n",
    "    df=df.drop_duplicates(subset='title', keep=\"first\")\n",
    "    return df"
   ]
  },
  {
   "cell_type": "code",
   "execution_count": 4,
   "metadata": {},
   "outputs": [
    {
     "data": {
      "text/html": [
       "<div>\n",
       "<style scoped>\n",
       "    .dataframe tbody tr th:only-of-type {\n",
       "        vertical-align: middle;\n",
       "    }\n",
       "\n",
       "    .dataframe tbody tr th {\n",
       "        vertical-align: top;\n",
       "    }\n",
       "\n",
       "    .dataframe thead th {\n",
       "        text-align: right;\n",
       "    }\n",
       "</style>\n",
       "<table border=\"1\" class=\"dataframe\">\n",
       "  <thead>\n",
       "    <tr style=\"text-align: right;\">\n",
       "      <th></th>\n",
       "      <th>sha</th>\n",
       "      <th>title</th>\n",
       "      <th>doi</th>\n",
       "      <th>abstract</th>\n",
       "      <th>publish_time</th>\n",
       "      <th>authors</th>\n",
       "      <th>journal</th>\n",
       "    </tr>\n",
       "  </thead>\n",
       "  <tbody>\n",
       "    <tr>\n",
       "      <th>4662</th>\n",
       "      <td>N/A</td>\n",
       "      <td>Latest assessment on COVID-19 from the Europea...</td>\n",
       "      <td>10.2807/1560-7917.es.2020.25.8.2002271</td>\n",
       "      <td>n/alatest assessment on covid-19 from the euro...</td>\n",
       "      <td>2020-02-27</td>\n",
       "      <td>N/A</td>\n",
       "      <td>Euro Surveill</td>\n",
       "    </tr>\n",
       "    <tr>\n",
       "      <th>4698</th>\n",
       "      <td>N/A</td>\n",
       "      <td>Updated rapid risk assessment from ECDC on the...</td>\n",
       "      <td>10.2807/1560-7917.es.2020.25.9.2003051</td>\n",
       "      <td>n/aupdated rapid risk assessment from ecdc on ...</td>\n",
       "      <td>2020-03-05</td>\n",
       "      <td>N/A</td>\n",
       "      <td>Euro Surveill</td>\n",
       "    </tr>\n",
       "    <tr>\n",
       "      <th>4732</th>\n",
       "      <td>N/A</td>\n",
       "      <td>Updated rapid risk assessment from ECDC on the...</td>\n",
       "      <td>10.2807/1560-7917.es.2020.25.10.2003121</td>\n",
       "      <td>n/aupdated rapid risk assessment from ecdc on ...</td>\n",
       "      <td>2020-03-12</td>\n",
       "      <td>N/A</td>\n",
       "      <td>Euro Surveill</td>\n",
       "    </tr>\n",
       "    <tr>\n",
       "      <th>4800</th>\n",
       "      <td>601e6ac1ad98e359dc021e8896a1a604331ca774</td>\n",
       "      <td>Empfehlungen zur intensivmedizinischen Therapi...</td>\n",
       "      <td>10.1007/s00063-020-00674-3</td>\n",
       "      <td>n/aempfehlungen zur intensivmedizinischen ther...</td>\n",
       "      <td>2020-03-12</td>\n",
       "      <td>Kluge, Stefan; Janssens, Uwe; Welte, Tobias; W...</td>\n",
       "      <td>Med Klin Intensivmed Notfmed</td>\n",
       "    </tr>\n",
       "    <tr>\n",
       "      <th>5683</th>\n",
       "      <td>N/A</td>\n",
       "      <td>The impact of COVID-19 on the provision of don...</td>\n",
       "      <td>10.1038/s41409-020-0873-x</td>\n",
       "      <td>n/athe impact of covid-19 on the provision of ...</td>\n",
       "      <td>2020-03-23</td>\n",
       "      <td>Szer, Jeff; Weisdorf, Daniel; Querol, Sergio; ...</td>\n",
       "      <td>Bone Marrow Transplant</td>\n",
       "    </tr>\n",
       "  </tbody>\n",
       "</table>\n",
       "</div>"
      ],
      "text/plain": [
       "                                           sha  \\\n",
       "4662                                       N/A   \n",
       "4698                                       N/A   \n",
       "4732                                       N/A   \n",
       "4800  601e6ac1ad98e359dc021e8896a1a604331ca774   \n",
       "5683                                       N/A   \n",
       "\n",
       "                                                  title  \\\n",
       "4662  Latest assessment on COVID-19 from the Europea...   \n",
       "4698  Updated rapid risk assessment from ECDC on the...   \n",
       "4732  Updated rapid risk assessment from ECDC on the...   \n",
       "4800  Empfehlungen zur intensivmedizinischen Therapi...   \n",
       "5683  The impact of COVID-19 on the provision of don...   \n",
       "\n",
       "                                          doi  \\\n",
       "4662   10.2807/1560-7917.es.2020.25.8.2002271   \n",
       "4698   10.2807/1560-7917.es.2020.25.9.2003051   \n",
       "4732  10.2807/1560-7917.es.2020.25.10.2003121   \n",
       "4800               10.1007/s00063-020-00674-3   \n",
       "5683                10.1038/s41409-020-0873-x   \n",
       "\n",
       "                                               abstract publish_time  \\\n",
       "4662  n/alatest assessment on covid-19 from the euro...   2020-02-27   \n",
       "4698  n/aupdated rapid risk assessment from ecdc on ...   2020-03-05   \n",
       "4732  n/aupdated rapid risk assessment from ecdc on ...   2020-03-12   \n",
       "4800  n/aempfehlungen zur intensivmedizinischen ther...   2020-03-12   \n",
       "5683  n/athe impact of covid-19 on the provision of ...   2020-03-23   \n",
       "\n",
       "                                                authors  \\\n",
       "4662                                                N/A   \n",
       "4698                                                N/A   \n",
       "4732                                                N/A   \n",
       "4800  Kluge, Stefan; Janssens, Uwe; Welte, Tobias; W...   \n",
       "5683  Szer, Jeff; Weisdorf, Daniel; Querol, Sergio; ...   \n",
       "\n",
       "                           journal  \n",
       "4662                 Euro Surveill  \n",
       "4698                 Euro Surveill  \n",
       "4732                 Euro Surveill  \n",
       "4800  Med Klin Intensivmed Notfmed  \n",
       "5683        Bone Marrow Transplant  "
      ]
     },
     "execution_count": 4,
     "metadata": {},
     "output_type": "execute_result"
    }
   ],
   "source": [
    "df=get_dataFrame(df)\n",
    "df.head()"
   ]
  },
  {
   "cell_type": "code",
   "execution_count": 5,
   "metadata": {},
   "outputs": [],
   "source": [
    "def stemming_word(search_word):\n",
    "    stemm = PorterStemmer()\n",
    "    word_list=[]\n",
    "    for word in search_word:\n",
    "        word_list.append(stemm.stem(word))\n",
    "    return word_list"
   ]
  },
  {
   "cell_type": "code",
   "execution_count": 6,
   "metadata": {},
   "outputs": [],
   "source": [
    "def search_dataFrame(df,search_word):\n",
    "    search_word=stemming_word(search_word)\n",
    "    df1=df[functools.reduce(lambda a, b: a&b, (df['abstract'].str.contains(search) for search in search_word))]\n",
    "    return df1"
   ]
  },
  {
   "cell_type": "code",
   "execution_count": 7,
   "metadata": {},
   "outputs": [],
   "source": [
    "def find_relevance(rel_df,search_word):\n",
    "    rel_df['score']=\"\"\n",
    "    search_words=stemming_word(search_word)\n",
    "    for index, row in rel_df.iterrows():\n",
    "        abstract = row['abstract']\n",
    "        result = abstract.split()\n",
    "        len_abstract=len(result)\n",
    "        count=0\n",
    "        for word in search_words:\n",
    "            count = count + result.count(word)\n",
    "        final_count = (count / len_abstract)\n",
    "        rel_count = count * final_count\n",
    "        rel_df.loc[index, 'score'] = rel_count\n",
    "    rel_df=rel_df.sort_values(by=['score'], ascending=False)\n",
    "    return rel_df"
   ]
  },
  {
   "cell_type": "code",
   "execution_count": 8,
   "metadata": {},
   "outputs": [],
   "source": [
    "# function to get best sentences from the search results\n",
    "def get_sentences(df1,search_words):\n",
    "    df_table = pd.DataFrame(columns = [\"pub_date\",\"authors\",\"title\",\"excerpt\",\"rel_score\"])\n",
    "    search_words = stemming_word(search_words)\n",
    "    for index, row in df1.iterrows():\n",
    "        pub_sentence=''\n",
    "        sentences_used=0\n",
    "        #break apart the absracrt to sentence level\n",
    "        sentences = row['abstract'].split('. ')\n",
    "        #loop through the sentences of the abstract\n",
    "        highligts=[]\n",
    "        for sentence in sentences:\n",
    "            # missing lets the system know if all the words are in the sentence\n",
    "            missing=0\n",
    "            #loop through the words of sentence\n",
    "            for word in search_words:\n",
    "                #if keyword missing change missing variable\n",
    "                if word not in sentence:\n",
    "                    missing=1\n",
    "            # after all sentences processed show the sentences not missing keywords\n",
    "            if missing==0 and len(sentence)<1000 and sentence!='':\n",
    "                sentence=sentence.capitalize()\n",
    "                if sentence[len(sentence)-1]!='.':\n",
    "                    sentence=sentence+'.'\n",
    "                pub_sentence=pub_sentence+'<br><br>'+sentence\n",
    "        if pub_sentence!='':\n",
    "            sentence=pub_sentence\n",
    "            sentences_used=sentences_used+1\n",
    "            authors=row[\"authors\"].split(\" \")\n",
    "            link=row['doi']\n",
    "            title=row[\"title\"]\n",
    "            score=row[\"score\"]\n",
    "            linka='https://doi.org/'+link\n",
    "            linkb=title\n",
    "            sentence='<p fontsize=tiny\" align=\"left\">'+sentence+'</p>'\n",
    "            final_link='<p align=\"left\"><a href=\"{}\">{}</a></p>'.format(linka,linkb)\n",
    "            to_append = [row['publish_time'],authors[0]+' et al.',final_link,sentence,score]\n",
    "            df_length = len(df_table)\n",
    "            df_table.loc[df_length] = to_append\n",
    "    return df_table"
   ]
  },
  {
   "cell_type": "code",
   "execution_count": 9,
   "metadata": {},
   "outputs": [
    {
     "data": {
      "text/html": [
       "<h1>Task 3: What do we know about vaccines and therapeutics ?</h1>"
      ],
      "text/plain": [
       "<IPython.core.display.HTML object>"
      ]
     },
     "metadata": {},
     "output_type": "display_data"
    },
    {
     "name": "stderr",
     "output_type": "stream",
     "text": [
      "/home/dewanshu/anaconda3/lib/python3.7/site-packages/ipykernel_launcher.py:2: SettingWithCopyWarning: \n",
      "A value is trying to be set on a copy of a slice from a DataFrame.\n",
      "Try using .loc[row_indexer,col_indexer] = value instead\n",
      "\n",
      "See the caveats in the documentation: https://pandas.pydata.org/pandas-docs/stable/user_guide/indexing.html#returning-a-view-versus-a-copy\n",
      "  \n",
      "/home/dewanshu/anaconda3/lib/python3.7/site-packages/pandas/core/indexing.py:670: SettingWithCopyWarning: \n",
      "A value is trying to be set on a copy of a slice from a DataFrame\n",
      "\n",
      "See the caveats in the documentation: https://pandas.pydata.org/pandas-docs/stable/user_guide/indexing.html#returning-a-view-versus-a-copy\n",
      "  self._setitem_with_indexer(indexer, value)\n",
      "/home/dewanshu/anaconda3/lib/python3.7/site-packages/ipykernel_launcher.py:13: SettingWithCopyWarning: \n",
      "A value is trying to be set on a copy of a slice from a DataFrame\n",
      "\n",
      "See the caveats in the documentation: https://pandas.pydata.org/pandas-docs/stable/user_guide/indexing.html#returning-a-view-versus-a-copy\n",
      "  del sys.path[0]\n"
     ]
    },
    {
     "data": {
      "text/html": [
       "<h3>Q: Effectiveness of drugs being developed and tried to treat COVID-19 patients?</h3>"
      ],
      "text/plain": [
       "<IPython.core.display.HTML object>"
      ]
     },
     "metadata": {},
     "output_type": "display_data"
    },
    {
     "data": {
      "text/html": [
       "<table border=\"1\" class=\"dataframe\">\n",
       "  <thead>\n",
       "    <tr style=\"text-align: right;\">\n",
       "      <th>pub_date</th>\n",
       "      <th>authors</th>\n",
       "      <th>title</th>\n",
       "      <th>excerpt</th>\n",
       "    </tr>\n",
       "  </thead>\n",
       "  <tbody>\n",
       "    <tr>\n",
       "      <td>2020-04-01</td>\n",
       "      <td>Ottesen, et al.</td>\n",
       "      <td><p align=\"left\"><a href=\"https://doi.org/10.1016/j.heliyon.2020.e03795\">Efficacy of a high-dose antiresorptive drug holiday to reduce the risk of medication-related osteonecrosis of the jaw (MRONJ): A systematic review.</a></p></td>\n",
       "      <td><p fontsize=tiny\" align=\"left\"><br><br>In 2 studies, patients were being treated with denosumab, but neither showed that a drug holiday was effective.</p></td>\n",
       "    </tr>\n",
       "    <tr>\n",
       "      <td>2020</td>\n",
       "      <td>Pawar, et al.</td>\n",
       "      <td><p align=\"left\"><a href=\"https://doi.org/N/A\">Combating devastating COVID-19 by drug repurposing</a></p></td>\n",
       "      <td><p fontsize=tiny\" align=\"left\"><br><br>Some countries are against the use of these drugs because of adverse effects associated with drug repurposing and lack of statistically significant clinical data, but they have been found to be effective in some countries to treat covid-19 patients (off-label/investigational).</p></td>\n",
       "    </tr>\n",
       "    <tr>\n",
       "      <td>2020-06-22</td>\n",
       "      <td>Bishara, et al.</td>\n",
       "      <td><p align=\"left\"><a href=\"https://doi.org/10.1177/2045125320935306\">Emerging and experimental treatments for COVID-19 and drug interactions with psychotropic agents</a></p></td>\n",
       "      <td><p fontsize=tiny\" align=\"left\"><br><br>An even higher threshold of vigilance should be maintained for patients with pre-existing conditions and older adults due to added toxicity and drug interactions, especially with psychotropic agents.emerging and experimental treatments for covid-19 and drug interactions with psychotropic agents.</p></td>\n",
       "    </tr>\n",
       "    <tr>\n",
       "      <td>2020-07-09</td>\n",
       "      <td>Mummed, et al.</td>\n",
       "      <td><p align=\"left\"><a href=\"https://doi.org/10.1016/j.bsheal.2020.07.002\">Molecular targets for COVID-19 drug development: Enlightening Nigerians about the pandemic and future treatment</a></p></td>\n",
       "      <td><p fontsize=tiny\" align=\"left\"><br><br>However, as patient management and drug repositioning are taking place, it is imperative to identify other promising targets used by sars-cov-2 to establish infection, to develop novel therapeutics.molecular targets for covid-19 drug development: enlightening nigerians about the pandemic and future treatment.</p></td>\n",
       "    </tr>\n",
       "    <tr>\n",
       "      <td>2020-04-17</td>\n",
       "      <td>Pawar, et al.</td>\n",
       "      <td><p align=\"left\"><a href=\"https://doi.org/10.1016/j.ijantimicag.2020.105984\">Combating Devastating COVID -19 by Drug Repurposing</a></p></td>\n",
       "      <td><p fontsize=tiny\" align=\"left\"><br><br>• further investigations of these drugs are recommended to treat covid-19 patients on top priority.combating devastating covid -19 by drug repurposing.</p></td>\n",
       "    </tr>\n",
       "    <tr>\n",
       "      <td>2020-06-12</td>\n",
       "      <td>Au et al.</td>\n",
       "      <td><p align=\"left\"><a href=\"https://doi.org/10.1007/s42399-020-00345-6\">Anaesthetic Considerations for Rationalizing Drug Use in the Operating Theatre: Strategies in a Singapore Hospital During COVID-19</a></p></td>\n",
       "      <td><p fontsize=tiny\" align=\"left\"><br><br>Covid-19 patients in the critical care unit tend to have prolonged hospital stay requiring high doses of sedation and paralysis to treat acute respiratory distress syndrome, resulting in a shortage of these drugs.</p></td>\n",
       "    </tr>\n",
       "    <tr>\n",
       "      <td>2020-05-12</td>\n",
       "      <td>Jafari, et al.</td>\n",
       "      <td><p align=\"left\"><a href=\"https://doi.org/10.1016/j.critrevonc.2020.102982\">Considerations for interactions of drugs used for the treatment of COVID-19 with anti-Cancer treatments</a></p></td>\n",
       "      <td><p fontsize=tiny\" align=\"left\"><br><br>Because of the long-term use of chemotherapy drugs, drug interactions are important in these patients especially with sars-cov2 treatments now.</p></td>\n",
       "    </tr>\n",
       "    <tr>\n",
       "      <td>2020</td>\n",
       "      <td>Jafari, et al.</td>\n",
       "      <td><p align=\"left\"><a href=\"https://doi.org/N/A\">Considerations for interactions of drugs used for the treatment of COVID-19 with anti-cancer treatments</a></p></td>\n",
       "      <td><p fontsize=tiny\" align=\"left\"><br><br>Because of the long-term use of chemotherapy drugs, drug interactions are important in these patients especially with sars-cov2 treatments now.</p></td>\n",
       "    </tr>\n",
       "    <tr>\n",
       "      <td>2020-07-17</td>\n",
       "      <td>Zhu, et al.</td>\n",
       "      <td><p align=\"left\"><a href=\"https://doi.org/10.1101/2020.07.17.207019\">Identification of SARS-CoV-2 3CL Protease Inhibitors by a Quantitative High-throughput Screening</a></p></td>\n",
       "      <td><p fontsize=tiny\" align=\"left\"><br><br>Conclusion and implications some of the newly identified inhibitors of sars-cov-2 3clpro may be used in combination therapy with other drugs for synergistic effect to treat covid-19 patients.<br><br>Clinical significance some of the newly identified 3clpro inhibitors can be evaluated in drug combination therapy for synergistic effect to treat covid-19 patients, while the others can serve as starting points for medicinal chemistry optimization to improve potency and drug like properties for drug development.identification of sars-cov-2 3cl protease inhibitors by a quantitative high-throughput screening.</p></td>\n",
       "    </tr>\n",
       "    <tr>\n",
       "      <td>2020</td>\n",
       "      <td>Mohanty, et al.</td>\n",
       "      <td><p align=\"left\"><a href=\"https://doi.org/N/A\">Application of Artificial Intelligence in COVID-19 drug repurposing</a></p></td>\n",
       "      <td><p fontsize=tiny\" align=\"left\"><br><br>This technology has the potential to improve the drug discovery, planning, treatment, and reported outcomes of the covid-19 patient, being an evidence-based medical tool.<br><br>With prior usage experiences in patients, few of the old drugs, if shown active against sars-cov-2, can be readily applied to treat the covid-19 patients.</p></td>\n",
       "    </tr>\n",
       "    <tr>\n",
       "      <td>2020-07-23</td>\n",
       "      <td>Dordal et al.</td>\n",
       "      <td><p align=\"left\"><a href=\"https://doi.org/10.18176/jiaci.0588\">Treating COVID-19: Review of drug hypersensitivity reactions.</a></p></td>\n",
       "      <td><p fontsize=tiny\" align=\"left\"><br><br>Currently, there is no drug approved for its treatment and different therapeutic options are being essayed to address pathophysiological processes underlying the clinical manifestations experienced by patients.<br><br>New and old drugs, whether as a single treatment or in combination, in immunologically compromised patients may favour the development of adverse drug reactions (adr), including drug hypersensitivity, which must be identified and managed accordingly.</p></td>\n",
       "    </tr>\n",
       "    <tr>\n",
       "      <td>2020</td>\n",
       "      <td>Dordal et al.</td>\n",
       "      <td><p align=\"left\"><a href=\"https://doi.org/N/A\">Treating COVID-19: Review of drug hypersensitivity reactions</a></p></td>\n",
       "      <td><p fontsize=tiny\" align=\"left\"><br><br>Currently, there is no drug approved for its treatment and different therapeutic options are being essayed to address pathophysiological processes underlying the clinical manifestations experienced by patients.<br><br>New and old drugs, whether as a single treatment or in combination, in immunologically compromised patients may favour the development of adverse drug reactions (adr), including drug hypersensitivity, which must be identified and managed accordingly.</p></td>\n",
       "    </tr>\n",
       "    <tr>\n",
       "      <td>2020</td>\n",
       "      <td>Kruse, et al.</td>\n",
       "      <td><p align=\"left\"><a href=\"https://doi.org/10.12688/f1000research.22211.1\">Therapeutic strategies in an outbreak scenario to treat the novel coronavirus originating in Wuhan, China.</a></p></td>\n",
       "      <td><p fontsize=tiny\" align=\"left\"><br><br>The sequence of the ace2-fc protein is provided to investigators, allowing its possible use in recombinant protein expression systems to start producing drug today to treat patients under compassionate use, while formal clinical trials are later undertaken.</p></td>\n",
       "    </tr>\n",
       "    <tr>\n",
       "      <td>2020</td>\n",
       "      <td>Liang, et al.</td>\n",
       "      <td><p align=\"left\"><a href=\"https://doi.org/N/A\">A promising antiviral candidate drug for the COVID-19 pandemic: A mini-review of remdesivir</a></p></td>\n",
       "      <td><p fontsize=tiny\" align=\"left\"><br><br>Food and drug administration (fda) has granted emergency use authorization (eua) for remdesivir to treat covid-19 patients.</p></td>\n",
       "    </tr>\n",
       "    <tr>\n",
       "      <td>2020-06-06</td>\n",
       "      <td>Liang, et al.</td>\n",
       "      <td><p align=\"left\"><a href=\"https://doi.org/10.1016/j.ejmech.2020.112527\">A promising antiviral candidate drug for the COVID-19 pandemic: A mini-review of remdesivir.</a></p></td>\n",
       "      <td><p fontsize=tiny\" align=\"left\"><br><br>Food and drug administration (fda) has granted emergency use authorization (eua) for remdesivir to treat covid-19 patients.</p></td>\n",
       "    </tr>\n",
       "  </tbody>\n",
       "</table>"
      ],
      "text/plain": [
       "<IPython.core.display.HTML object>"
      ]
     },
     "metadata": {},
     "output_type": "display_data"
    },
    {
     "name": "stderr",
     "output_type": "stream",
     "text": [
      "/home/dewanshu/anaconda3/lib/python3.7/site-packages/ipykernel_launcher.py:2: SettingWithCopyWarning: \n",
      "A value is trying to be set on a copy of a slice from a DataFrame.\n",
      "Try using .loc[row_indexer,col_indexer] = value instead\n",
      "\n",
      "See the caveats in the documentation: https://pandas.pydata.org/pandas-docs/stable/user_guide/indexing.html#returning-a-view-versus-a-copy\n",
      "  \n",
      "/home/dewanshu/anaconda3/lib/python3.7/site-packages/pandas/core/indexing.py:670: SettingWithCopyWarning: \n",
      "A value is trying to be set on a copy of a slice from a DataFrame\n",
      "\n",
      "See the caveats in the documentation: https://pandas.pydata.org/pandas-docs/stable/user_guide/indexing.html#returning-a-view-versus-a-copy\n",
      "  self._setitem_with_indexer(indexer, value)\n",
      "/home/dewanshu/anaconda3/lib/python3.7/site-packages/ipykernel_launcher.py:13: SettingWithCopyWarning: \n",
      "A value is trying to be set on a copy of a slice from a DataFrame\n",
      "\n",
      "See the caveats in the documentation: https://pandas.pydata.org/pandas-docs/stable/user_guide/indexing.html#returning-a-view-versus-a-copy\n",
      "  del sys.path[0]\n"
     ]
    },
    {
     "data": {
      "text/html": [
       "<h3>Q: Clinical and bench trials to investigate less common viral inhibitors against COVID-19 such as naproxen, clarithromycin, and minocycline that that may exert effects on viral replication?</h3>"
      ],
      "text/plain": [
       "<IPython.core.display.HTML object>"
      ]
     },
     "metadata": {},
     "output_type": "display_data"
    },
    {
     "name": "stdout",
     "output_type": "stream",
     "text": [
      "No reliable answer could be located in the literature\n"
     ]
    },
    {
     "name": "stderr",
     "output_type": "stream",
     "text": [
      "/home/dewanshu/anaconda3/lib/python3.7/site-packages/ipykernel_launcher.py:2: SettingWithCopyWarning: \n",
      "A value is trying to be set on a copy of a slice from a DataFrame.\n",
      "Try using .loc[row_indexer,col_indexer] = value instead\n",
      "\n",
      "See the caveats in the documentation: https://pandas.pydata.org/pandas-docs/stable/user_guide/indexing.html#returning-a-view-versus-a-copy\n",
      "  \n",
      "/home/dewanshu/anaconda3/lib/python3.7/site-packages/pandas/core/indexing.py:670: SettingWithCopyWarning: \n",
      "A value is trying to be set on a copy of a slice from a DataFrame\n",
      "\n",
      "See the caveats in the documentation: https://pandas.pydata.org/pandas-docs/stable/user_guide/indexing.html#returning-a-view-versus-a-copy\n",
      "  self._setitem_with_indexer(indexer, value)\n",
      "/home/dewanshu/anaconda3/lib/python3.7/site-packages/ipykernel_launcher.py:13: SettingWithCopyWarning: \n",
      "A value is trying to be set on a copy of a slice from a DataFrame\n",
      "\n",
      "See the caveats in the documentation: https://pandas.pydata.org/pandas-docs/stable/user_guide/indexing.html#returning-a-view-versus-a-copy\n",
      "  del sys.path[0]\n"
     ]
    },
    {
     "data": {
      "text/html": [
       "<h3>Q: Methods evaluating potential complication of Antibody-Dependent Enhancement (ADE) in vaccine recipients?</h3>"
      ],
      "text/plain": [
       "<IPython.core.display.HTML object>"
      ]
     },
     "metadata": {},
     "output_type": "display_data"
    },
    {
     "name": "stdout",
     "output_type": "stream",
     "text": [
      "No reliable answer could be located in the literature\n"
     ]
    },
    {
     "data": {
      "text/html": [
       "<h3>Q: Exploration of use of best animal models and their predictive value for a human vaccine?</h3>"
      ],
      "text/plain": [
       "<IPython.core.display.HTML object>"
      ]
     },
     "metadata": {},
     "output_type": "display_data"
    },
    {
     "name": "stdout",
     "output_type": "stream",
     "text": [
      "No reliable answer could be located in the literature\n"
     ]
    },
    {
     "data": {
      "text/html": [
       "<h3>Q: Capabilities to discover a therapeutic (not vaccine) for the disease, and clinical effectiveness studies to discover therapeutics, to include antiviral agents?</h3>"
      ],
      "text/plain": [
       "<IPython.core.display.HTML object>"
      ]
     },
     "metadata": {},
     "output_type": "display_data"
    },
    {
     "name": "stdout",
     "output_type": "stream",
     "text": [
      "No reliable answer could be located in the literature\n"
     ]
    },
    {
     "data": {
      "text/html": [
       "<h3>Q: Alternative models to aid decision makers in determining how to prioritize and distribute scarce, newly proven therapeutics as production ramps up. This could include identifying approaches for expanding production capacity to ensure equitable and timely distribution to populations in need?</h3>"
      ],
      "text/plain": [
       "<IPython.core.display.HTML object>"
      ]
     },
     "metadata": {},
     "output_type": "display_data"
    },
    {
     "name": "stdout",
     "output_type": "stream",
     "text": [
      "No reliable answer could be located in the literature\n"
     ]
    },
    {
     "name": "stderr",
     "output_type": "stream",
     "text": [
      "/home/dewanshu/anaconda3/lib/python3.7/site-packages/ipykernel_launcher.py:2: SettingWithCopyWarning: \n",
      "A value is trying to be set on a copy of a slice from a DataFrame.\n",
      "Try using .loc[row_indexer,col_indexer] = value instead\n",
      "\n",
      "See the caveats in the documentation: https://pandas.pydata.org/pandas-docs/stable/user_guide/indexing.html#returning-a-view-versus-a-copy\n",
      "  \n",
      "/home/dewanshu/anaconda3/lib/python3.7/site-packages/pandas/core/indexing.py:670: SettingWithCopyWarning: \n",
      "A value is trying to be set on a copy of a slice from a DataFrame\n",
      "\n",
      "See the caveats in the documentation: https://pandas.pydata.org/pandas-docs/stable/user_guide/indexing.html#returning-a-view-versus-a-copy\n",
      "  self._setitem_with_indexer(indexer, value)\n",
      "/home/dewanshu/anaconda3/lib/python3.7/site-packages/ipykernel_launcher.py:13: SettingWithCopyWarning: \n",
      "A value is trying to be set on a copy of a slice from a DataFrame\n",
      "\n",
      "See the caveats in the documentation: https://pandas.pydata.org/pandas-docs/stable/user_guide/indexing.html#returning-a-view-versus-a-copy\n",
      "  del sys.path[0]\n"
     ]
    },
    {
     "data": {
      "text/html": [
       "<h3>Q: Efforts targeted at developing options for a universal coronavirus vaccine?</h3>"
      ],
      "text/plain": [
       "<IPython.core.display.HTML object>"
      ]
     },
     "metadata": {},
     "output_type": "display_data"
    },
    {
     "data": {
      "text/html": [
       "<table border=\"1\" class=\"dataframe\">\n",
       "  <thead>\n",
       "    <tr style=\"text-align: right;\">\n",
       "      <th>pub_date</th>\n",
       "      <th>authors</th>\n",
       "      <th>title</th>\n",
       "      <th>excerpt</th>\n",
       "    </tr>\n",
       "  </thead>\n",
       "  <tbody>\n",
       "    <tr>\n",
       "      <td>2020-03-21</td>\n",
       "      <td>Ong, et al.</td>\n",
       "      <td><p align=\"left\"><a href=\"https://doi.org/10.1101/2020.03.20.000141\">COVID-19 coronavirus vaccine design using reverse vaccinology and machine learning</a></p></td>\n",
       "      <td><p fontsize=tiny\" align=\"left\"><br><br>Our predicted vaccine targets provide new strategies for effective and safe covid-19 vaccine development.covid-19 coronavirus vaccine design using reverse vaccinology and machine learning.</p></td>\n",
       "    </tr>\n",
       "    <tr>\n",
       "      <td>2020-06-01</td>\n",
       "      <td>Arora, et al.</td>\n",
       "      <td><p align=\"left\"><a href=\"https://doi.org/10.4103/ijph.ijph_520_20\">COVID-19 vaccine development and the way forward.</a></p></td>\n",
       "      <td><p fontsize=tiny\" align=\"left\"><br><br>While the availability of newer technologies has facilitated development, there are several challenges on the way including limited understanding of the pathophysiology, targeting humoral or mucosal immunity, lack of suitable animal model, poor success of human severe acute respiratory syndrome/middle east respiratory syndrome vaccines, limited efficacy of influenza vaccines, and immune exaggeration with animal coronavirus vaccines.</p></td>\n",
       "    </tr>\n",
       "    <tr>\n",
       "      <td>2020</td>\n",
       "      <td>Arora, et al.</td>\n",
       "      <td><p align=\"left\"><a href=\"https://doi.org/N/A\">COVID-19 vaccine development and the way forward</a></p></td>\n",
       "      <td><p fontsize=tiny\" align=\"left\"><br><br>While the availability of newer technologies has facilitated development, there are several challenges on the way including limited understanding of the pathophysiology, targeting humoral or mucosal immunity, lack of suitable animal model, poor success of human severe acute respiratory syndrome/middle east respiratory syndrome vaccines, limited efficacy of influenza vaccines, and immune exaggeration with animal coronavirus vaccines.</p></td>\n",
       "    </tr>\n",
       "    <tr>\n",
       "      <td>2020-05-30</td>\n",
       "      <td>He, et al.</td>\n",
       "      <td><p align=\"left\"><a href=\"https://doi.org/10.1016/j.apsb.2020.05.009\">Highly pathogenic coronaviruses: thrusting vaccine development in the spotlight</a></p></td>\n",
       "      <td><p fontsize=tiny\" align=\"left\"><br><br>In this review, we will briefly describe coronavirus vaccine design targets, summarize recent advances in the development of coronavirus vaccines, and highlight current adjuvants for improving the efficacy of coronavirus vaccines.highly pathogenic coronaviruses: thrusting vaccine development in the spotlight.</p></td>\n",
       "    </tr>\n",
       "    <tr>\n",
       "      <td>2020-05-03</td>\n",
       "      <td>Lundstrom, et al.</td>\n",
       "      <td><p align=\"left\"><a href=\"https://doi.org/10.3390/biomedicines8050109\">Coronavirus Pandemic—Therapy and Vaccines</a></p></td>\n",
       "      <td><p fontsize=tiny\" align=\"left\"><br><br>Previous experience from sars- and mers-coronavirus vaccine and drug development projects have targeted glycoprotein epitopes, monoclonal antibodies, angiotensin receptor blockers and gene silencing technologies, which may be useful for covid-19 too.</p></td>\n",
       "    </tr>\n",
       "  </tbody>\n",
       "</table>"
      ],
      "text/plain": [
       "<IPython.core.display.HTML object>"
      ]
     },
     "metadata": {},
     "output_type": "display_data"
    },
    {
     "data": {
      "text/html": [
       "<h3>Q: Efforts to develop animal models and standardize challenge studies?</h3>"
      ],
      "text/plain": [
       "<IPython.core.display.HTML object>"
      ]
     },
     "metadata": {},
     "output_type": "display_data"
    },
    {
     "name": "stdout",
     "output_type": "stream",
     "text": [
      "No reliable answer could be located in the literature\n"
     ]
    },
    {
     "data": {
      "text/html": [
       "<h3>Q: Efforts to develop prophylaxis clinical studies and prioritize in healthcare workers?</h3>"
      ],
      "text/plain": [
       "<IPython.core.display.HTML object>"
      ]
     },
     "metadata": {},
     "output_type": "display_data"
    },
    {
     "name": "stdout",
     "output_type": "stream",
     "text": [
      "No reliable answer could be located in the literature\n"
     ]
    },
    {
     "data": {
      "text/html": [
       "<h3>Q: Approaches to evaluate risk for enhanced disease after vaccination?</h3>"
      ],
      "text/plain": [
       "<IPython.core.display.HTML object>"
      ]
     },
     "metadata": {},
     "output_type": "display_data"
    },
    {
     "name": "stdout",
     "output_type": "stream",
     "text": [
      "No reliable answer could be located in the literature\n"
     ]
    }
   ],
   "source": [
    "display(HTML('<h1>Task 3: What do we know about vaccines and therapeutics ?</h1>'))\n",
    "\n",
    "# list of lists of search terms\n",
    "questions=[\n",
    "['Q: Effectiveness of drugs being developed and tried to treat COVID-19 patients?'],\n",
    "['Q: Clinical and bench trials to investigate less common viral inhibitors against COVID-19 such as naproxen, clarithromycin, and minocycline that that may exert effects on viral replication?'],\n",
    "['Q: Methods evaluating potential complication of Antibody-Dependent Enhancement (ADE) in vaccine recipients?'],\n",
    "['Q: Exploration of use of best animal models and their predictive value for a human vaccine?'],\n",
    "['Q: Capabilities to discover a therapeutic (not vaccine) for the disease, and clinical effectiveness studies to discover therapeutics, to include antiviral agents?'],\n",
    "['Q: Alternative models to aid decision makers in determining how to prioritize and distribute scarce, newly proven therapeutics as production ramps up. This could include identifying approaches for expanding production capacity to ensure equitable and timely distribution to populations in need?'],\n",
    "['Q: Efforts targeted at developing options for a universal coronavirus vaccine?'],\n",
    "['Q: Efforts to develop animal models and standardize challenge studies?'],\n",
    "['Q: Efforts to develop prophylaxis clinical studies and prioritize in healthcare workers?'],\n",
    "['Q: Approaches to evaluate risk for enhanced disease after vaccination?']\n",
    "]   \n",
    "\n",
    "search=[['drugs','treat','patients'],\n",
    "['COVID-19','minocycline','viral'],\n",
    "['evaluating','Antibody-Dependent Enhancement','vaccine'],\n",
    "['animal','predictive','human vaccine'],\n",
    "['therapeutic','clinical effectiveness','antiviral agents'],\n",
    "['prioritize','scarce','newly proven therapeutics'],\n",
    "['targeted','developing','coronavirus vaccine'],\n",
    "['develop','animal models', 'standardize challenge'],\n",
    "['develop','prophylaxis clinical', 'healthcare workers'],\n",
    "['evaluate','enhanced disease','vaccination']\n",
    "]       \n",
    "q=0\n",
    "for search_words in search:\n",
    "    str1=''\n",
    "    # make a string of the search words to print readable version from above table\n",
    "    str1=' '.join(questions[q])\n",
    "    \n",
    "    #search the dataframe for all words\n",
    "    df1=search_dataFrame(df,search_words)\n",
    "\n",
    "    # analyze search results for relevance \n",
    "    df1=find_relevance(df1,search_words)\n",
    "\n",
    "    # get best sentences\n",
    "    df_table=get_sentences(df1,search_words)\n",
    "    \n",
    "    length=df_table.shape[0]\n",
    "    #limit 3 results\n",
    "    df_table=df_table.head(15)\n",
    "    df_table=df_table.drop(['rel_score'], axis=1)\n",
    "    #convert df to html\n",
    "    df_table=HTML(df_table.to_html(escape=False,index=False))\n",
    "    \n",
    "    # display search topic\n",
    "    display(HTML('<h3>'+str1+'</h3>'))\n",
    "    \n",
    "    #display table\n",
    "    if length<1:\n",
    "        print (\"No reliable answer could be located in the literature\")\n",
    "    else:\n",
    "        display(df_table)\n",
    "    q=q+1"
   ]
  },
  {
   "cell_type": "code",
   "execution_count": null,
   "metadata": {},
   "outputs": [],
   "source": []
  }
 ],
 "metadata": {
  "kernelspec": {
   "display_name": "Python 3",
   "language": "python",
   "name": "python3"
  },
  "language_info": {
   "codemirror_mode": {
    "name": "ipython",
    "version": 3
   },
   "file_extension": ".py",
   "mimetype": "text/x-python",
   "name": "python",
   "nbconvert_exporter": "python",
   "pygments_lexer": "ipython3",
   "version": "3.7.6"
  }
 },
 "nbformat": 4,
 "nbformat_minor": 4
}
