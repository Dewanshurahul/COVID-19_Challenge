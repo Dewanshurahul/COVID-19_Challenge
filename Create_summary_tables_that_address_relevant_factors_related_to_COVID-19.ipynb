{
 "cells": [
  {
   "cell_type": "code",
   "execution_count": 1,
   "metadata": {},
   "outputs": [],
   "source": [
    "import json\n",
    "import pandas as pd\n",
    "import os\n",
    "from tqdm import tqdm"
   ]
  },
  {
   "cell_type": "code",
   "execution_count": 3,
   "metadata": {},
   "outputs": [
    {
     "name": "stderr",
     "output_type": "stream",
     "text": [
      "100%|██████████| 91615/91615 [01:52<00:00, 816.40it/s]\n"
     ]
    },
    {
     "data": {
      "text/html": [
       "<div>\n",
       "<style scoped>\n",
       "    .dataframe tbody tr th:only-of-type {\n",
       "        vertical-align: middle;\n",
       "    }\n",
       "\n",
       "    .dataframe tbody tr th {\n",
       "        vertical-align: top;\n",
       "    }\n",
       "\n",
       "    .dataframe thead th {\n",
       "        text-align: right;\n",
       "    }\n",
       "</style>\n",
       "<table border=\"1\" class=\"dataframe\">\n",
       "  <thead>\n",
       "    <tr style=\"text-align: right;\">\n",
       "      <th></th>\n",
       "      <th>title</th>\n",
       "      <th>abstract</th>\n",
       "      <th>full_text</th>\n",
       "    </tr>\n",
       "  </thead>\n",
       "  <tbody>\n",
       "    <tr>\n",
       "      <th>0</th>\n",
       "      <td>Title: Structural landscape of the complete ge...</td>\n",
       "      <td>{'text': 'With more than 300 million potential...</td>\n",
       "      <td>The secondary structure profiles were computed...</td>\n",
       "    </tr>\n",
       "    <tr>\n",
       "      <th>1</th>\n",
       "      <td>Mining User Opinions to Support Requirement En...</td>\n",
       "      <td>{'text': 'App reviews provide a rich source of...</td>\n",
       "      <td>App reviews is a rich source of user opinions ...</td>\n",
       "    </tr>\n",
       "    <tr>\n",
       "      <th>2</th>\n",
       "      <td>Forecasting virus diffusion with simple Bayesi...</td>\n",
       "      <td>{'text': 'There are various diffusion models f...</td>\n",
       "      <td>Virus diffusion often obeys an S shaped patter...</td>\n",
       "    </tr>\n",
       "    <tr>\n",
       "      <th>3</th>\n",
       "      <td>Characterization of the interaction between re...</td>\n",
       "      <td>{'text': 'Porcine epidemic diarrhea (PED) has ...</td>\n",
       "      <td>Coronaviruses are enveloped single-stranded po...</td>\n",
       "    </tr>\n",
       "    <tr>\n",
       "      <th>4</th>\n",
       "      <td>Leitthema Antibiotikatherapie in der Hals-Nase...</td>\n",
       "      <td></td>\n",
       "      <td>Zu einer optimalen Antibiotikatherapie gehören...</td>\n",
       "    </tr>\n",
       "  </tbody>\n",
       "</table>\n",
       "</div>"
      ],
      "text/plain": [
       "                                               title  \\\n",
       "0  Title: Structural landscape of the complete ge...   \n",
       "1  Mining User Opinions to Support Requirement En...   \n",
       "2  Forecasting virus diffusion with simple Bayesi...   \n",
       "3  Characterization of the interaction between re...   \n",
       "4  Leitthema Antibiotikatherapie in der Hals-Nase...   \n",
       "\n",
       "                                            abstract  \\\n",
       "0  {'text': 'With more than 300 million potential...   \n",
       "1  {'text': 'App reviews provide a rich source of...   \n",
       "2  {'text': 'There are various diffusion models f...   \n",
       "3  {'text': 'Porcine epidemic diarrhea (PED) has ...   \n",
       "4                                                      \n",
       "\n",
       "                                           full_text  \n",
       "0  The secondary structure profiles were computed...  \n",
       "1  App reviews is a rich source of user opinions ...  \n",
       "2  Virus diffusion often obeys an S shaped patter...  \n",
       "3  Coronaviruses are enveloped single-stranded po...  \n",
       "4  Zu einer optimalen Antibiotikatherapie gehören...  "
      ]
     },
     "execution_count": 3,
     "metadata": {},
     "output_type": "execute_result"
    }
   ],
   "source": [
    "dirs = \"/home/kk/Desktop/Spark/document_parses\"\n",
    "num_files = 0\n",
    "\n",
    "docs = []\n",
    "for d in [dirs + \"/pdf_json/\"]:\n",
    "    # print(d)\n",
    "    files = os.listdir(d)\n",
    "    num_files += len(files)\n",
    "    for file in tqdm(files):\n",
    "        file_path = d + file\n",
    "        j = json.load(open(file_path, \"rb\"))\n",
    "        # print(j)\n",
    "        title = j[\"metadata\"][\"title\"]\n",
    "        try:\n",
    "            abstract = j[\"abstract\"][0]\n",
    "        except:\n",
    "            abstract = \"\"\n",
    "        full_text = \"\"\n",
    "        for text in j[\"body_text\"]:\n",
    "            # print(text[\"text\"])\n",
    "            full_text += text[\"text\"] + \"\\n\\n\"\n",
    "\n",
    "        # print(full_text)\n",
    "        docs.append([title, abstract, full_text])\n",
    "\n",
    "df = pd.DataFrame(docs, columns=[\"title\", \"abstract\", \"full_text\"])\n",
    "df.head()"
   ]
  },
  {
   "cell_type": "markdown",
   "metadata": {},
   "source": [
    "1. Effectiveness of case isolation/isolation of exposed individuals (i.e. quarantine)"
   ]
  },
  {
   "cell_type": "code",
   "execution_count": 6,
   "metadata": {},
   "outputs": [
    {
     "data": {
      "text/plain": [
       "(22176, 3)"
      ]
     },
     "execution_count": 6,
     "metadata": {},
     "output_type": "execute_result"
    }
   ],
   "source": [
    "isolation=df[df['full_text'].str.contains('isolation')]\n",
    "isolation.shape"
   ]
  },
  {
   "cell_type": "code",
   "execution_count": 7,
   "metadata": {},
   "outputs": [
    {
     "data": {
      "text/plain": [
       "(7154, 3)"
      ]
     },
     "execution_count": 7,
     "metadata": {},
     "output_type": "execute_result"
    }
   ],
   "source": [
    "exposed = isolation[isolation['full_text'].str.contains('exposed')]\n",
    "exposed.shape"
   ]
  },
  {
   "cell_type": "code",
   "execution_count": 8,
   "metadata": {},
   "outputs": [
    {
     "data": {
      "text/plain": [
       "(5681, 3)"
      ]
     },
     "execution_count": 8,
     "metadata": {},
     "output_type": "execute_result"
    }
   ],
   "source": [
    "individual = exposed[exposed['full_text'].str.contains('individual')]\n",
    "individual.shape"
   ]
  },
  {
   "cell_type": "code",
   "execution_count": 11,
   "metadata": {},
   "outputs": [],
   "source": [
    "print(individual['full_text'])\n",
    "individual.to_csv('Effectiveness_of_case_isolation_of_exposed_individuals.csv',index=None)"
   ]
  },
  {
   "cell_type": "markdown",
   "metadata": {},
   "source": [
    "2. Effectiveness of community contact reduction"
   ]
  },
  {
   "cell_type": "code",
   "execution_count": 12,
   "metadata": {},
   "outputs": [
    {
     "data": {
      "text/plain": [
       "(23510, 3)"
      ]
     },
     "execution_count": 12,
     "metadata": {},
     "output_type": "execute_result"
    }
   ],
   "source": [
    "community=df[df['full_text'].str.contains('community')]\n",
    "community.shape"
   ]
  },
  {
   "cell_type": "code",
   "execution_count": 13,
   "metadata": {},
   "outputs": [
    {
     "data": {
      "text/plain": [
       "(12022, 3)"
      ]
     },
     "execution_count": 13,
     "metadata": {},
     "output_type": "execute_result"
    }
   ],
   "source": [
    "contact = community[community['full_text'].str.contains('contact')]\n",
    "contact.shape"
   ]
  },
  {
   "cell_type": "code",
   "execution_count": 14,
   "metadata": {},
   "outputs": [
    {
     "data": {
      "text/plain": [
       "(4669, 3)"
      ]
     },
     "execution_count": 14,
     "metadata": {},
     "output_type": "execute_result"
    }
   ],
   "source": [
    "reduction = contact[contact['full_text'].str.contains('reduction')]\n",
    "reduction.shape"
   ]
  },
  {
   "cell_type": "code",
   "execution_count": 15,
   "metadata": {},
   "outputs": [],
   "source": [
    "print(reduction['full_text'])\n",
    "reduction.to_csv('Effectiveness_of_community_contact_reduction.csv',index=None)"
   ]
  },
  {
   "cell_type": "markdown",
   "metadata": {},
   "source": [
    "3. Effectiveness of inter/inner travel restriction"
   ]
  },
  {
   "cell_type": "code",
   "execution_count": 17,
   "metadata": {},
   "outputs": [
    {
     "data": {
      "text/plain": [
       "(14655, 3)"
      ]
     },
     "execution_count": 17,
     "metadata": {},
     "output_type": "execute_result"
    }
   ],
   "source": [
    "travel=df[df['full_text'].str.contains('travel')]\n",
    "travel.shape"
   ]
  },
  {
   "cell_type": "code",
   "execution_count": 19,
   "metadata": {},
   "outputs": [
    {
     "data": {
      "text/plain": [
       "(4527, 3)"
      ]
     },
     "execution_count": 19,
     "metadata": {},
     "output_type": "execute_result"
    }
   ],
   "source": [
    "restriction=travel[travel['full_text'].str.contains('restriction')]\n",
    "restriction.shape"
   ]
  },
  {
   "cell_type": "code",
   "execution_count": 20,
   "metadata": {},
   "outputs": [
    {
     "data": {
      "text/plain": [
       "(476, 3)"
      ]
     },
     "execution_count": 20,
     "metadata": {},
     "output_type": "execute_result"
    }
   ],
   "source": [
    "inner=restriction[restriction['full_text'].str.contains('inner')]\n",
    "inner.shape"
   ]
  },
  {
   "cell_type": "code",
   "execution_count": 21,
   "metadata": {},
   "outputs": [
    {
     "data": {
      "text/plain": [
       "(4394, 3)"
      ]
     },
     "execution_count": 21,
     "metadata": {},
     "output_type": "execute_result"
    }
   ],
   "source": [
    "inter=restriction[restriction['full_text'].str.contains('inter')]\n",
    "inter.shape"
   ]
  },
  {
   "cell_type": "code",
   "execution_count": 22,
   "metadata": {},
   "outputs": [
    {
     "name": "stdout",
     "output_type": "stream",
     "text": [
      "                                                   title  \\\n",
      "60                                                         \n",
      "64                                       Security Issues   \n",
      "103                                                        \n",
      "126    Distributed under Creative Commons CC-BY 4.0 N...   \n",
      "187    The time scale of asymptomatic transmission af...   \n",
      "...                                                  ...   \n",
      "91450  Integrated Sensor Systems and Data Fusion for ...   \n",
      "91477                                                      \n",
      "91490  Breastfeeding: A guide for the medical profess...   \n",
      "91573  The role of a Coronavirus disease 2019 pharmac...   \n",
      "91606  Emerging Themes in Epidemiology Early efforts ...   \n",
      "\n",
      "                                                abstract  \\\n",
      "60                                                         \n",
      "64                                                         \n",
      "103    {'text': 'sharing HIV care and COVID-19 care d...   \n",
      "126    {'text': 'As the United States military engage...   \n",
      "187    {'text': 'The role of asymptomatic carriers in...   \n",
      "...                                                  ...   \n",
      "91450  {'text': 'As stated by John Naisbitt in his be...   \n",
      "91477  {'text': 'Although the United States (U.S.) de...   \n",
      "91490                                                      \n",
      "91573  {'text': 'The coronavirus disease 2019 (COVID-...   \n",
      "91606  {'text': 'The incubation period of infectious ...   \n",
      "\n",
      "                                               full_text  \n",
      "60     The rapidly evolving global pandemic from the ...  \n",
      "64     hackers to prevent any trace of their movement...  \n",
      "103    The SARS-CoV-2 pandemic hit disproportionately...  \n",
      "126    International deployment is a common occurrenc...  \n",
      "187    In an epidemic, symptomatic cases are the pred...  \n",
      "...                                                  ...  \n",
      "91450  and data links. After conceiving also algorith...  \n",
      "91477  Approximately 78 million tourists 1 and 44 mil...  \n",
      "91490  A large body of evidence clearly demonstrates ...  \n",
      "91573  The outbreak of the novel Severe Acute Respira...  \n",
      "91606  After the suggestion that the incubation perio...  \n",
      "\n",
      "[4394 rows x 3 columns]\n"
     ]
    }
   ],
   "source": [
    "print(inter['full_text'])\n",
    "inter.to_csv('Effectiveness_of_inter_travel_restriction.csv',index=None)"
   ]
  },
  {
   "cell_type": "markdown",
   "metadata": {},
   "source": [
    "4. Effectiveness of school distancing"
   ]
  },
  {
   "cell_type": "code",
   "execution_count": 23,
   "metadata": {},
   "outputs": [
    {
     "data": {
      "text/plain": [
       "(9125, 3)"
      ]
     },
     "execution_count": 23,
     "metadata": {},
     "output_type": "execute_result"
    }
   ],
   "source": [
    "school=df[df['full_text'].str.contains('school')]\n",
    "school.shape"
   ]
  },
  {
   "cell_type": "code",
   "execution_count": 24,
   "metadata": {},
   "outputs": [
    {
     "data": {
      "text/plain": [
       "(2708, 3)"
      ]
     },
     "execution_count": 24,
     "metadata": {},
     "output_type": "execute_result"
    }
   ],
   "source": [
    "distancing=school[school['full_text'].str.contains('distancing')]\n",
    "distancing.shape"
   ]
  },
  {
   "cell_type": "code",
   "execution_count": 25,
   "metadata": {},
   "outputs": [
    {
     "name": "stdout",
     "output_type": "stream",
     "text": [
      "                                                   title  \\\n",
      "17     MODELING LAYERED NON-PHARMACEUTICAL INTERVENTI...   \n",
      "38                                                         \n",
      "90     Journal Pre-proof Diabetes & Metabolic Syndrom...   \n",
      "297                  Turkish Journal of Medical Sciences   \n",
      "303    COVID-19 and Food Insecurity: an Uneven Patchw...   \n",
      "...                                                  ...   \n",
      "91401      DYNAMIC CAUSAL MODELLING OF COVID-19 Contents   \n",
      "91478  Modelling the evolution of COVID-19 in high-in...   \n",
      "91505  Journal Pre-proof Editorial: Impacts of COVID-...   \n",
      "91548  Healthcare impact of COVID-19 epidemic in Indi...   \n",
      "91599  Global lessons and Potential strategies in com...   \n",
      "\n",
      "                                                abstract  \\\n",
      "17     {'text': 'The novel coronavirus SARS-CoV-2 has...   \n",
      "38                                                         \n",
      "90                                                         \n",
      "297    {'text': 'On January 30, 2020, the WHO declare...   \n",
      "303                                                        \n",
      "...                                                  ...   \n",
      "91401  {'text': 'This technical report describes a dy...   \n",
      "91478  {'text': 'A previously developed mechanistic m...   \n",
      "91505                                                      \n",
      "91548  {'text': 'Keywords: COVID-19 Models Theoretica...   \n",
      "91599  {'text': 'Background: Coronavirus disease 2019...   \n",
      "\n",
      "                                               full_text  \n",
      "17     The United States has had nearly 400,000 teste...  \n",
      "38     Historically, innovations occur when an indivi...  \n",
      "90     COVID-19 is the term used to describe the dise...  \n",
      "297    In late 2019, a novel coronavirus, now designa...  \n",
      "303    Prior to the COVID-19 pandemic, an estimated 1...  \n",
      "...                                                  ...  \n",
      "91401  The purpose of this paper is to show how dynam...  \n",
      "91478  The ongoing pandemic expansion of the new SARS...  \n",
      "91505  AGSY 102873\\n\\nTo This is a PDF file of an art...  \n",
      "91548  The World Health Organization declared COVID-1...  \n",
      "91599  severity, the extent of transmission, and opti...  \n",
      "\n",
      "[2708 rows x 3 columns]\n"
     ]
    }
   ],
   "source": [
    "print(distancing['full_text'])\n",
    "distancing.to_csv(\"Effectiveness_of_school_distancing.csv\",index=None)"
   ]
  },
  {
   "cell_type": "markdown",
   "metadata": {},
   "source": [
    "5. Effectiveness of workplace distancing"
   ]
  },
  {
   "cell_type": "code",
   "execution_count": 26,
   "metadata": {},
   "outputs": [
    {
     "data": {
      "text/plain": [
       "(2762, 3)"
      ]
     },
     "execution_count": 26,
     "metadata": {},
     "output_type": "execute_result"
    }
   ],
   "source": [
    "workplace=df[df['full_text'].str.contains('workplace')]\n",
    "workplace.shape"
   ]
  },
  {
   "cell_type": "code",
   "execution_count": 28,
   "metadata": {},
   "outputs": [
    {
     "data": {
      "text/plain": [
       "(1043, 3)"
      ]
     },
     "execution_count": 28,
     "metadata": {},
     "output_type": "execute_result"
    }
   ],
   "source": [
    "distancing_workspace = workplace[workplace['full_text'].str.contains('distancing')]\n",
    "distancing_workspace.shape"
   ]
  },
  {
   "cell_type": "code",
   "execution_count": 29,
   "metadata": {},
   "outputs": [
    {
     "name": "stdout",
     "output_type": "stream",
     "text": [
      "17       The United States has had nearly 400,000 teste...\n",
      "36       The SARS-CoV-2 virus has significantly affecte...\n",
      "201      The Covid-19 (coronavirus) pandemic has presen...\n",
      "245      Abstract-Contact tracing is of paramount impor...\n",
      "297      In late 2019, a novel coronavirus, now designa...\n",
      "                               ...                        \n",
      "90500    This modelling study investigated the impact o...\n",
      "90574    The COVID-19 pandemic has had major impacts on...\n",
      "90826    \"Nous somme en guerre\", proclaimed French Pres...\n",
      "91214    World Health Organization (WHO) declared the C...\n",
      "91478    The ongoing pandemic expansion of the new SARS...\n",
      "Name: full_text, Length: 1043, dtype: object\n"
     ]
    }
   ],
   "source": [
    "print(distancing_workspace['full_text'])\n",
    "distancing_workspace.to_csv('Effectiveness_of_workplace_distancing.csv',index=None)"
   ]
  },
  {
   "cell_type": "markdown",
   "metadata": {},
   "source": [
    "6. Effectiveness of a multifactorial strategy prevent secondary transmission"
   ]
  },
  {
   "cell_type": "code",
   "execution_count": 30,
   "metadata": {},
   "outputs": [
    {
     "data": {
      "text/plain": [
       "(2038, 3)"
      ]
     },
     "execution_count": 30,
     "metadata": {},
     "output_type": "execute_result"
    }
   ],
   "source": [
    "multifactorial=df[df['full_text'].str.contains('multifactorial')]\n",
    "multifactorial.shape"
   ]
  },
  {
   "cell_type": "code",
   "execution_count": 31,
   "metadata": {},
   "outputs": [
    {
     "data": {
      "text/plain": [
       "(1475, 3)"
      ]
     },
     "execution_count": 31,
     "metadata": {},
     "output_type": "execute_result"
    }
   ],
   "source": [
    "prevent=multifactorial[multifactorial['full_text'].str.contains('prevent')]\n",
    "prevent.shape"
   ]
  },
  {
   "cell_type": "code",
   "execution_count": 32,
   "metadata": {},
   "outputs": [
    {
     "data": {
      "text/plain": [
       "(938, 3)"
      ]
     },
     "execution_count": 32,
     "metadata": {},
     "output_type": "execute_result"
    }
   ],
   "source": [
    "secondary=prevent[prevent['full_text'].str.contains('secondary')]\n",
    "secondary.shape"
   ]
  },
  {
   "cell_type": "code",
   "execution_count": 33,
   "metadata": {},
   "outputs": [
    {
     "data": {
      "text/plain": [
       "(537, 3)"
      ]
     },
     "execution_count": 33,
     "metadata": {},
     "output_type": "execute_result"
    }
   ],
   "source": [
    "transmission=secondary[secondary['full_text'].str.contains('transmission')]\n",
    "transmission.shape"
   ]
  },
  {
   "cell_type": "code",
   "execution_count": 36,
   "metadata": {},
   "outputs": [
    {
     "name": "stdout",
     "output_type": "stream",
     "text": [
      "82       Diarrhea is the most important disease of neon...\n",
      "282      Bovine respiratory disease (BRD) is the most i...\n",
      "384      To determine the differences in functional out...\n",
      "787      The understanding of epilepsy as a complex int...\n",
      "902      Since the first edition of this book, the use ...\n",
      "                               ...                        \n",
      "91014    Although guinea pigs are sensitive and suscept...\n",
      "91039    Diagnosis is defined as the art or act of iden...\n",
      "91249    The rapid technological development of medical...\n",
      "91528    Laboratory of Molecular Biology and Immunology...\n",
      "91546    Successful medical management of the organ don...\n",
      "Name: full_text, Length: 537, dtype: object\n"
     ]
    }
   ],
   "source": [
    "print(transmission['full_text'])\n",
    "transmission.to_csv('Effectiveness_of_a_multifactorial_strategy_prevent_secondary_transmission.csv',index=None)"
   ]
  },
  {
   "cell_type": "markdown",
   "metadata": {},
   "source": [
    "7. Seasonality of transmission"
   ]
  },
  {
   "cell_type": "code",
   "execution_count": 37,
   "metadata": {},
   "outputs": [
    {
     "data": {
      "text/plain": [
       "(143, 3)"
      ]
     },
     "execution_count": 37,
     "metadata": {},
     "output_type": "execute_result"
    }
   ],
   "source": [
    "seasonality=df[df['full_text'].str.contains('Seasonality')]\n",
    "seasonality.shape"
   ]
  },
  {
   "cell_type": "code",
   "execution_count": 38,
   "metadata": {},
   "outputs": [
    {
     "data": {
      "text/plain": [
       "(90, 3)"
      ]
     },
     "execution_count": 38,
     "metadata": {},
     "output_type": "execute_result"
    }
   ],
   "source": [
    "transmission_seasonality=seasonality[seasonality['full_text'].str.contains('transmission')]\n",
    "transmission_seasonality.shape"
   ]
  },
  {
   "cell_type": "code",
   "execution_count": 39,
   "metadata": {},
   "outputs": [
    {
     "name": "stdout",
     "output_type": "stream",
     "text": [
      "229      occurs. A much broader approach to the movemen...\n",
      "625      The environmental neurology approach to diseas...\n",
      "1632     Wildlife plays a key role in emerging infectio...\n",
      "2161     Summary Introduction: Wild birds and especiall...\n",
      "2790     Since the novel coronavirus SARS-CoV-2 was ini...\n",
      "                               ...                        \n",
      "86343    Pneumonia is an important cause of morbidity a...\n",
      "87625    Seasonal influenza is a global health threat, ...\n",
      "88246    Influenza is an acute viral respiratory tract ...\n",
      "89967    Coinciding with China's rapid economic develop...\n",
      "91540    The recently published report of the Disease C...\n",
      "Name: full_text, Length: 90, dtype: object\n"
     ]
    }
   ],
   "source": [
    "print(transmission_seasonality['full_text'])\n",
    "transmission_seasonality.to_csv('Seasonality_of_transmission.csv',index=None)"
   ]
  },
  {
   "cell_type": "markdown",
   "metadata": {},
   "source": [
    "8. How does temperature and humidity affect the transmission of 2019-nCoV?"
   ]
  },
  {
   "cell_type": "code",
   "execution_count": 40,
   "metadata": {},
   "outputs": [
    {
     "data": {
      "text/plain": [
       "(23803, 3)"
      ]
     },
     "execution_count": 40,
     "metadata": {},
     "output_type": "execute_result"
    }
   ],
   "source": [
    "temperature=df[df['full_text'].str.contains('temperature')]\n",
    "temperature.shape"
   ]
  },
  {
   "cell_type": "code",
   "execution_count": 41,
   "metadata": {},
   "outputs": [
    {
     "data": {
      "text/plain": [
       "(2955, 3)"
      ]
     },
     "execution_count": 41,
     "metadata": {},
     "output_type": "execute_result"
    }
   ],
   "source": [
    "humidity=temperature[temperature['full_text'].str.contains('humidity')]\n",
    "humidity.shape"
   ]
  },
  {
   "cell_type": "code",
   "execution_count": 42,
   "metadata": {},
   "outputs": [
    {
     "data": {
      "text/plain": [
       "(2209, 3)"
      ]
     },
     "execution_count": 42,
     "metadata": {},
     "output_type": "execute_result"
    }
   ],
   "source": [
    "affect=humidity[humidity['full_text'].str.contains('affect')]\n",
    "affect.shape"
   ]
  },
  {
   "cell_type": "code",
   "execution_count": 43,
   "metadata": {},
   "outputs": [
    {
     "data": {
      "text/plain": [
       "(1433, 3)"
      ]
     },
     "execution_count": 43,
     "metadata": {},
     "output_type": "execute_result"
    }
   ],
   "source": [
    "transmission_affect = affect[affect['full_text'].str.contains('transmission')]\n",
    "transmission_affect.shape"
   ]
  },
  {
   "cell_type": "code",
   "execution_count": 44,
   "metadata": {},
   "outputs": [
    {
     "data": {
      "text/plain": [
       "(62, 3)"
      ]
     },
     "execution_count": 44,
     "metadata": {},
     "output_type": "execute_result"
    }
   ],
   "source": [
    "nCoV = transmission_affect[transmission_affect['full_text'].str.contains('2019-nCoV')]\n",
    "nCoV.shape"
   ]
  },
  {
   "cell_type": "code",
   "execution_count": 45,
   "metadata": {},
   "outputs": [
    {
     "name": "stdout",
     "output_type": "stream",
     "text": [
      "2173     Coronavirus disease 2019 (COVID-19; previously...\n",
      "4950     In late 2019, a pneumonia outbreak of uncertai...\n",
      "8143     Severe acute respiratory syndrome coronavirus ...\n",
      "12549    The new coronavirus, called 2019-nCoV, is a ne...\n",
      "13494    J o u r n a l P r e -p r o o f 3 (Takian et al...\n",
      "                               ...                        \n",
      "87368    The novel Coronavirus (2019-nCoV) was identifi...\n",
      "88937    Since late December 2019, patients presenting ...\n",
      "89402    Although the emergence of new coronavirus dise...\n",
      "90621    In the first season of 2020, an outbreak of at...\n",
      "91507    Since 2002, two epidemics of severe acute resp...\n",
      "Name: full_text, Length: 62, dtype: object\n"
     ]
    }
   ],
   "source": [
    "print(nCoV['full_text'])\n",
    "nCoV.to_csv('Temperature_and_humidity_affect_the_transmission_of_2019-nCoV.csv',index=None)"
   ]
  },
  {
   "cell_type": "markdown",
   "metadata": {},
   "source": [
    "9. Significant changes in transmissibility in changing seasons?"
   ]
  },
  {
   "cell_type": "code",
   "execution_count": 46,
   "metadata": {},
   "outputs": [
    {
     "data": {
      "text/plain": [
       "(38620, 3)"
      ]
     },
     "execution_count": 46,
     "metadata": {},
     "output_type": "execute_result"
    }
   ],
   "source": [
    "changes=df[df['full_text'].str.contains('changes')]\n",
    "changes.shape"
   ]
  },
  {
   "cell_type": "code",
   "execution_count": 47,
   "metadata": {},
   "outputs": [
    {
     "data": {
      "text/plain": [
       "(1685, 3)"
      ]
     },
     "execution_count": 47,
     "metadata": {},
     "output_type": "execute_result"
    }
   ],
   "source": [
    "transmissibility=changes[changes['full_text'].str.contains('transmissibility')]\n",
    "transmissibility.shape"
   ]
  },
  {
   "cell_type": "code",
   "execution_count": 48,
   "metadata": {},
   "outputs": [
    {
     "data": {
      "text/plain": [
       "(136, 3)"
      ]
     },
     "execution_count": 48,
     "metadata": {},
     "output_type": "execute_result"
    }
   ],
   "source": [
    "seasons=transmissibility[transmissibility['full_text'].str.contains('seasons')]\n",
    "seasons.shape"
   ]
  },
  {
   "cell_type": "code",
   "execution_count": 50,
   "metadata": {},
   "outputs": [
    {
     "name": "stdout",
     "output_type": "stream",
     "text": [
      "229      occurs. A much broader approach to the movemen...\n",
      "1085     Influenza A, B and C viruses are members of th...\n",
      "1243     In the spring of 2009, the novel H1N1 influenz...\n",
      "1418     Middle East respiratory syndrome coronavirus (...\n",
      "1723     Viruses are common but often under-recognized ...\n",
      "                               ...                        \n",
      "89860    The H7N9 influenza virus was first isolated in...\n",
      "90265    Children represent an epidemiological group of...\n",
      "90636    Infectious disease can be viewed as a play inv...\n",
      "90955    With increasing complexity of travel itinerari...\n",
      "91490    A large body of evidence clearly demonstrates ...\n",
      "Name: full_text, Length: 136, dtype: object\n"
     ]
    }
   ],
   "source": [
    "print(seasons['full_text'])\n",
    "seasons.to_csv('Significant_changes_in_transmissibility_in_changing_seasons.csv',index=None)"
   ]
  },
  {
   "cell_type": "markdown",
   "metadata": {},
   "source": [
    "10. Effectiveness of personal protective equipment (PPE)"
   ]
  },
  {
   "cell_type": "code",
   "execution_count": 52,
   "metadata": {},
   "outputs": [
    {
     "data": {
      "text/plain": [
       "(13883, 3)"
      ]
     },
     "execution_count": 52,
     "metadata": {},
     "output_type": "execute_result"
    }
   ],
   "source": [
    "effectiveness=df[df['full_text'].str.contains('effectiveness')]\n",
    "effectiveness.shape"
   ]
  },
  {
   "cell_type": "code",
   "execution_count": 53,
   "metadata": {},
   "outputs": [
    {
     "data": {
      "text/plain": [
       "(4720, 3)"
      ]
     },
     "execution_count": 53,
     "metadata": {},
     "output_type": "execute_result"
    }
   ],
   "source": [
    "personal=effectiveness[effectiveness['full_text'].str.contains('personal')]\n",
    "personal.shape"
   ]
  },
  {
   "cell_type": "code",
   "execution_count": 54,
   "metadata": {},
   "outputs": [
    {
     "data": {
      "text/plain": [
       "(2470, 3)"
      ]
     },
     "execution_count": 54,
     "metadata": {},
     "output_type": "execute_result"
    }
   ],
   "source": [
    "protective=personal[personal['full_text'].str.contains('protective')]\n",
    "protective.shape"
   ]
  },
  {
   "cell_type": "code",
   "execution_count": 55,
   "metadata": {},
   "outputs": [
    {
     "data": {
      "text/plain": [
       "(1707, 3)"
      ]
     },
     "execution_count": 55,
     "metadata": {},
     "output_type": "execute_result"
    }
   ],
   "source": [
    "equipment = protective[protective['full_text'].str.contains('equipment')]\n",
    "equipment.shape"
   ]
  },
  {
   "cell_type": "code",
   "execution_count": 56,
   "metadata": {},
   "outputs": [
    {
     "name": "stdout",
     "output_type": "stream",
     "text": [
      "59       This study aimed to evaluate practical barrier...\n",
      "64       hackers to prevent any trace of their movement...\n",
      "65       Influenza virus is a common respiratory agent ...\n",
      "82       Diarrhea is the most important disease of neon...\n",
      "229      occurs. A much broader approach to the movemen...\n",
      "                               ...                        \n",
      "91490    A large body of evidence clearly demonstrates ...\n",
      "91537    Testing contamination and cleaning effectivene...\n",
      "91569    It is a well-known fact that healthcare associ...\n",
      "91580    The Enemy to face\\n\\nThe World Health Organiza...\n",
      "91599    severity, the extent of transmission, and opti...\n",
      "Name: full_text, Length: 1707, dtype: object\n"
     ]
    }
   ],
   "source": [
    "print(equipment['full_text'])\n",
    "equipment.to_csv('Effectiveness_of_personal_protective_equipment.csv',index=None)"
   ]
  },
  {
   "cell_type": "code",
   "execution_count": null,
   "metadata": {},
   "outputs": [],
   "source": []
  }
 ],
 "metadata": {
  "kernelspec": {
   "display_name": "Python 3",
   "language": "python",
   "name": "python3"
  },
  "language_info": {
   "codemirror_mode": {
    "name": "ipython",
    "version": 3
   },
   "file_extension": ".py",
   "mimetype": "text/x-python",
   "name": "python",
   "nbconvert_exporter": "python",
   "pygments_lexer": "ipython3",
   "version": "3.7.6"
  }
 },
 "nbformat": 4,
 "nbformat_minor": 4
}
